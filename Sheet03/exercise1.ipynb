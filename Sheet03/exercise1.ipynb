{
 "cells": [
  {
   "cell_type": "code",
   "execution_count": 2,
   "metadata": {},
   "outputs": [],
   "source": [
    "import numpy as np\n",
    "import matplotlib.pyplot as plt"
   ]
  },
  {
   "cell_type": "code",
   "execution_count": 3,
   "metadata": {},
   "outputs": [],
   "source": [
    "grid_size = 5\n",
    "initial_state = np.array([0,0])\n",
    "loc_a = np.array([0,1])\n",
    "loc_a_ = np.array([4,1])\n",
    "rew_a = 5\n",
    "loc_b = np.array([0,3])\n",
    "loc_b_ = np.array([2,3])\n",
    "rew_b = 5"
   ]
  },
  {
   "cell_type": "code",
   "execution_count": 4,
   "metadata": {},
   "outputs": [],
   "source": [
    "def next_state(state, action):\n",
    "    if state[0] == loc_a[0] and state[1] == loc_a[1]:\n",
    "                    return loc_a_, rew_a\n",
    "    elif state[0] == loc_b[0] and state[1] == loc_b[1]:\n",
    "                    return loc_b_, rew_b\n",
    "    else:\n",
    "        if action == 'N':\n",
    "            if state[0] == 0:\n",
    "                return state, -1\n",
    "            else:\n",
    "                state = state + np.array([-1,0])\n",
    "                return state, 0\n",
    "        if action == 'S':\n",
    "            if state[0] == grid_size - 1:\n",
    "                return state, -1\n",
    "            else:\n",
    "                state = state + np.array([1,0])\n",
    "                return state, 0\n",
    "        if action == 'W':\n",
    "            if state[1] == 0:\n",
    "                return state, -1\n",
    "            else:\n",
    "                state = state + np.array([0,-1])\n",
    "                return state, 0\n",
    "        if action == 'E':\n",
    "            if state[1] == grid_size -1 :\n",
    "                return state, -1\n",
    "            else:\n",
    "                state = state + np.array([0,1])\n",
    "                return state, 0"
   ]
  },
  {
   "cell_type": "code",
   "execution_count": 5,
   "metadata": {},
   "outputs": [],
   "source": [
    "def compute_state_val_function(max_iterations, eps, policy):\n",
    "    val_function = np.zeros((max_iterations, grid_size,grid_size))\n",
    "    change = np.zeros(max_iterations)\n",
    "    actions = ['N','S','W','E']\n",
    "    iteration = 0\n",
    "    gamma = 0.9\n",
    "    change[0] = 10\n",
    "    while iteration <= max_iterations:\n",
    "        for i in range(grid_size):\n",
    "            for j in range(grid_size):\n",
    "                value = 0 \n",
    "                for action_idx, action in enumerate(actions):\n",
    "                    astate, arew = next_state(np.array([i,j]), action)\n",
    "                    value += policy[i,j,action_idx] * (arew + gamma * val_function[iteration,astate[0],astate[1]])\n",
    "                val_function[iteration+1,i,j] = value\n",
    "        change[iteration] = abs(np.sum(val_function[iteration]-val_function[iteration+1]))\n",
    "        if change[iteration] < eps: \n",
    "            break\n",
    "        iteration += 1\n",
    "    return val_function[:iteration+1,:,:], change[:iteration+1]"
   ]
  },
  {
   "cell_type": "code",
   "execution_count": 6,
   "metadata": {},
   "outputs": [],
   "source": [
    "def compute_action_val_function(max_iterations, eps, policy):\n",
    "    \n",
    "    actions = ['N','S','W','E']\n",
    "    val_function = np.zeros((max_iterations, grid_size,grid_size, len(actions)))\n",
    "    change = np.zeros(max_iterations)\n",
    "    iteration = 0\n",
    "    gamma = 0.9\n",
    "    change[0] = 10\n",
    "    while iteration <= max_iterations:\n",
    "        for i in range(grid_size):\n",
    "            for j in range(grid_size):\n",
    "                for action_index, action in enumerate(actions):\n",
    "                    astate, arew = next_state(np.array([i,j]),action)\n",
    "                    value = arew + gamma * policy[i,j,action_index] * np.sum(val_function[iteration,astate[0],astate[1],:])\n",
    "                    val_function[iteration+1,i,j,action_index] = value\n",
    "        change[iteration] = abs(np.sum(val_function[iteration]-val_function[iteration+1]))\n",
    "        if change[iteration] < eps: \n",
    "            break\n",
    "        iteration += 1\n",
    "    return val_function[:iteration,:,:,:], change[:iteration]"
   ]
  },
  {
   "cell_type": "markdown",
   "metadata": {},
   "source": [
    "So far, we just copied the algorithms we implemented for Sheet02. Now we want to perform Policy Improvement: \n",
    "The initial policy is defined by doing random steps, i.e probability 0.25 for each of the four possible steps. \n",
    "\n",
    "Unfortunately, we did not understand the difference between a) und c), so the difference between using the state or the action value functions to improve the policy. \n",
    "in the lectures slides, we only found one formulation to update the policy, namely \\pi^'(s) = argmax q(a,s). This is what we implmented here. We are not sure if that is now part a) or part c). \n",
    "\n"
   ]
  },
  {
   "cell_type": "code",
   "execution_count": null,
   "metadata": {},
   "outputs": [],
   "source": [
    "def policy_improvement(max_policy_improvement_iterations, max_iterations_state, max_iterations_action, epsilon_state, epsilon_action): \n",
    "    num_actions = 4\n",
    "    grid_size = 5\n",
    "    gamma = 0.9\n",
    "    actions = [\"N\", \"S\", \"W\", \"E\"]\n",
    "    policy = 1/num_actions * np.ones((grid_size, grid_size, num_actions))\n",
    "    \n",
    "    state_value, _ = compute_state_val_function(max_iterations_state, epsilon_state, policy)\n",
    "    state_value = state_value[-1, :, :]\n",
    "    action_value, _ = compute_action_val_function(max_iterations_action, epsilon_action, policy)\n",
    "    \n",
    "    for i in range(max_policy_improvement_iterations): \n",
    "        print(i)\n",
    "        current_policy = np.zeros((grid_size, grid_size, num_actions))\n",
    "\n",
    "        #Choose new policy as argmax \n",
    "        for j in range(grid_size): \n",
    "            for k in range(grid_size): \n",
    "                values_of_strange_q = np.zeros(num_actions)\n",
    "                for l in range(num_actions): \n",
    "                    new_state, reward_a = next_state(np.array([j,k]), actions[l])\n",
    "                    values_of_strange_q[l] = reward_a + gamma * state_value[new_state[0], new_state[1]]\n",
    "                #best_actions = np.where(action_value[-1, j, k, :] == np.max(action_value[-1,j, k, :]))[0]\n",
    "                best_actions = np.where(values_of_strange_q == np.max(values_of_strange_q))[0] # i.e. argmax but cooler\n",
    "                current_policy[j,k, best_actions] = 1/len(best_actions)\n",
    "        \n",
    "        current_state_value, _ = compute_state_val_function(max_iterations_state, epsilon_state, current_policy)\n",
    "        current_state_value = current_state_value[-1, :, :]\n",
    "\n",
    "        if np.all(current_policy == policy): \n",
    "            print(\"terminated because of no policy improvement\")\n",
    "            return current_policy\n",
    "\n",
    "        policy = current_policy\n",
    "        state_value = current_state_value\n",
    "        action_value, _ = compute_action_val_function(max_iterations_action, epsilon_action, policy)\n",
    "\n",
    "    print(\"terminated because of max iterations\")\n",
    "    return current_policy             "
   ]
  },
  {
   "cell_type": "code",
   "execution_count": 13,
   "metadata": {},
   "outputs": [
    {
     "name": "stdout",
     "output_type": "stream",
     "text": [
      "0\n",
      "1\n",
      "terminated because of no policy improvement\n",
      "[[0.   0.25 0.   0.25 0.  ]\n",
      " [0.   1.   1.   1.   0.  ]\n",
      " [1.   1.   1.   1.   1.  ]\n",
      " [1.   1.   1.   1.   1.  ]\n",
      " [1.   1.   1.   1.   1.  ]]\n"
     ]
    }
   ],
   "source": [
    "max_policy_improvement_iterations = 30\n",
    "max_iterations_state = 100000\n",
    "max_iterations_action = 100000\n",
    "epsilon_state = 1e-14\n",
    "epsilon_action = 1e-14\n",
    "current_policy = policy_improvement(max_policy_improvement_iterations, max_iterations_state, max_iterations_action, epsilon_state, epsilon_action)\n",
    "print(current_policy[:, :, 0])"
   ]
  },
  {
   "cell_type": "code",
   "execution_count": 9,
   "metadata": {},
   "outputs": [
    {
     "name": "stdout",
     "output_type": "stream",
     "text": [
      "[[0.   0.25 0.   0.25 0.  ]\n",
      " [0.   0.   0.5  1.   0.5 ]\n",
      " [0.5  0.5  0.5  1.   0.5 ]\n",
      " [0.5  0.5  0.5  1.   0.5 ]\n",
      " [0.5  0.5  0.5  1.   0.5 ]]\n"
     ]
    }
   ],
   "source": [
    "print(current_policy[:,:,0])"
   ]
  },
  {
   "cell_type": "code",
   "execution_count": 10,
   "metadata": {},
   "outputs": [
    {
     "data": {
      "image/png": "[encoded data removed]",
      "text/plain": [
       "<Figure size 500x500 with 1 Axes>"
      ]
     },
     "metadata": {},
     "output_type": "display_data"
    }
   ],
   "source": [
    "import numpy as np\n",
    "import matplotlib.pyplot as plt\n",
    "\n",
    "def visualize_policy(policy):\n",
    "    \"\"\"\n",
    "    Visualizes the policy as arrows on a grid.\n",
    "    \n",
    "    Parameters:\n",
    "    policy (numpy.ndarray): A 3D array where:\n",
    "        - policy[:,:,0] is the probability for 'North' (↑)\n",
    "        - policy[:,:,1] is the probability for 'South' (↓)\n",
    "        - policy[:,:,2] is the probability for 'West' (←)\n",
    "        - policy[:,:,3] is the probability for 'East' (→)\n",
    "    \"\"\"\n",
    "    n_rows, n_cols, n_dirs = policy.shape\n",
    "    if n_dirs != 4:\n",
    "        raise ValueError(\"Policy must have 4 directions in the third dimension (North, South, West, East).\")\n",
    "    \n",
    "    # Create a plot\n",
    "    fig, ax = plt.subplots(figsize=(n_cols, n_rows))\n",
    "    ax.set_xlim(-0.5, n_cols - 0.5)\n",
    "    ax.set_ylim(-0.5, n_rows - 0.5)\n",
    "    ax.set_xticks(np.arange(-0.5, n_cols, 1))\n",
    "    ax.set_yticks(np.arange(-0.5, n_rows, 1))\n",
    "    ax.grid(True)\n",
    "    \n",
    "    # Arrow parameters\n",
    "    arrow_params = {\n",
    "        \"head_width\": 0.2,\n",
    "        \"head_length\": 0.2,\n",
    "        \"length_includes_head\": True,\n",
    "        \"color\": \"blue\",\n",
    "    }\n",
    "    \n",
    "    # Iterate over each cell\n",
    "    for i in range(n_rows):\n",
    "        for j in range(n_cols):\n",
    "            # Check each direction\n",
    "            if policy[i, j, 0] > 0:  # North\n",
    "                ax.arrow(j, i, 0, 0.4, **arrow_params)\n",
    "            if policy[i, j, 1] > 0:  # South\n",
    "                ax.arrow(j, i, 0, -0.4, **arrow_params)\n",
    "            if policy[i, j, 2] > 0:  # West\n",
    "                ax.arrow(j, i, -0.4, 0, **arrow_params)\n",
    "            if policy[i, j, 3] > 0:  # East\n",
    "                ax.arrow(j, i, 0.4, 0, **arrow_params)\n",
    "    \n",
    "    # Reverse the y-axis to align with matrix indexing\n",
    "    ax.invert_yaxis()\n",
    "    plt.title(\"Policy Visualization\")\n",
    "    plt.show()\n",
    "\n",
    "# Beispiel: Dummy Policy erstellen und visualisieren\n",
    "example_policy = np.zeros((5, 5, 4))\n",
    "example_policy[1, 1, 0] = 1  # North at (1, 1)\n",
    "example_policy[2, 2, 1] = 1  # South at (2, 2)\n",
    "example_policy[3, 3, 2] = 1  # West at (3, 3)\n",
    "example_policy[4, 4, 3] = 1  # East at (4, 4)\n",
    "\n",
    "visualize_policy(current_policy)\n"
   ]
  },
  {
   "cell_type": "code",
   "execution_count": null,
   "metadata": {},
   "outputs": [],
   "source": []
  }
 ],
 "metadata": {
  "kernelspec": {
   "display_name": "Python 3",
   "language": "python",
   "name": "python3"
  },
  "language_info": {
   "codemirror_mode": {
    "name": "ipython",
    "version": 3
   },
   "file_extension": ".py",
   "mimetype": "text/x-python",
   "name": "python",
   "nbconvert_exporter": "python",
   "pygments_lexer": "ipython3",
   "version": "3.11.1"
  }
 },
 "nbformat": 4,
 "nbformat_minor": 2
}
