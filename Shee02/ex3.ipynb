{
 "cells": [
  {
   "cell_type": "markdown",
   "metadata": {},
   "source": [
    "# a)"
   ]
  },
  {
   "cell_type": "code",
   "execution_count": 41,
   "metadata": {},
   "outputs": [],
   "source": [
    "import gymnasium as gym\n",
    "import matplotlib.pyplot as plt\n",
    "import time "
   ]
  },
  {
   "cell_type": "code",
   "execution_count": 45,
   "metadata": {},
   "outputs": [
    {
     "data": {
      "image/png": "[encoded data removed]",
      "text/plain": [
       "<Figure size 640x480 with 1 Axes>"
      ]
     },
     "metadata": {},
     "output_type": "display_data"
    },
    {
     "name": "stdout",
     "output_type": "stream",
     "text": [
      "Step 0: action = 1, reward = 1.0, terminated = False, truncated = False, info ={}\n",
      "Step 1: action = 1, reward = 1.0, terminated = False, truncated = False, info ={}\n",
      "Step 2: action = 0, reward = 1.0, terminated = False, truncated = False, info ={}\n",
      "Step 3: action = 1, reward = 1.0, terminated = False, truncated = False, info ={}\n",
      "Step 4: action = 1, reward = 1.0, terminated = False, truncated = False, info ={}\n",
      "Step 5: action = 0, reward = 1.0, terminated = False, truncated = False, info ={}\n",
      "Step 6: action = 0, reward = 1.0, terminated = False, truncated = False, info ={}\n",
      "Step 7: action = 0, reward = 1.0, terminated = False, truncated = False, info ={}\n",
      "Step 8: action = 0, reward = 1.0, terminated = False, truncated = False, info ={}\n",
      "Step 9: action = 1, reward = 1.0, terminated = False, truncated = False, info ={}\n",
      "Step 10: action = 1, reward = 1.0, terminated = False, truncated = False, info ={}\n",
      "Step 11: action = 0, reward = 1.0, terminated = False, truncated = False, info ={}\n",
      "Step 12: action = 0, reward = 1.0, terminated = False, truncated = False, info ={}\n",
      "Step 13: action = 1, reward = 1.0, terminated = False, truncated = False, info ={}\n",
      "Step 14: action = 1, reward = 1.0, terminated = False, truncated = False, info ={}\n",
      "Step 15: action = 1, reward = 1.0, terminated = False, truncated = False, info ={}\n",
      "Step 16: action = 1, reward = 1.0, terminated = False, truncated = False, info ={}\n",
      "Step 17: action = 1, reward = 1.0, terminated = False, truncated = False, info ={}\n",
      "Step 18: action = 0, reward = 1.0, terminated = False, truncated = False, info ={}\n",
      "Step 19: action = 0, reward = 1.0, terminated = True, truncated = False, info ={}\n"
     ]
    }
   ],
   "source": [
    "env = gym.make(\"CartPole-v1\", render_mode=\"rgb_array\")\n",
    "observation, info = env.reset()\n",
    "\n",
    "episode_over = False\n",
    "i = 0\n",
    "frames = []\n",
    "actions = []\n",
    "rewards = []\n",
    "terminateds = []\n",
    "truncateds = []\n",
    "infos = []\n",
    "while not episode_over:\n",
    "    i += 1\n",
    "    frame = env.render()\n",
    "    frames.append(frame)\n",
    "    action = env.action_space.sample()  # agent policy that uses the observation and info\n",
    "    observation, reward, terminated, truncated, info = env.step(action)\n",
    "    actions.append(action)\n",
    "    rewards.append(reward)\n",
    "    terminateds.append(terminated)\n",
    "    truncateds.append(truncated)\n",
    "    infos.append(info)\n",
    "    episode_over = terminated or truncated\n",
    "\n",
    "for frame in frames:\n",
    "    plt.imshow(frame)\n",
    "    clear_output(wait=True)\n",
    "    plt.show()\n",
    "    time.sleep(0.01)\n",
    "env.close()\n",
    "\n",
    "for j in range(i):\n",
    "    print(f\"Step {j}: action = {actions[j]}, reward = {rewards[j]}, terminated = {terminateds[j]}, truncated = {truncateds[j]}, info ={infos[j]}\")"
   ]
  },
  {
   "cell_type": "markdown",
   "metadata": {},
   "source": [
    "# b)"
   ]
  },
  {
   "cell_type": "markdown",
   "metadata": {},
   "source": []
  }
 ],
 "metadata": {
  "kernelspec": {
   "display_name": "Python 3",
   "language": "python",
   "name": "python3"
  },
  "language_info": {
   "codemirror_mode": {
    "name": "ipython",
    "version": 3
   },
   "file_extension": ".py",
   "mimetype": "text/x-python",
   "name": "python",
   "nbconvert_exporter": "python",
   "pygments_lexer": "ipython3",
   "version": "3.10.8"
  }
 },
 "nbformat": 4,
 "nbformat_minor": 2
}
