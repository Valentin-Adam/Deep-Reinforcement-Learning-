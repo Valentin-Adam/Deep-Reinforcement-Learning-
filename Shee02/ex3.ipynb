{
 "cells": [
  {
   "cell_type": "markdown",
   "metadata": {},
   "source": [
    "# a)"
   ]
  },
  {
   "cell_type": "code",
   "execution_count": 47,
   "metadata": {},
   "outputs": [],
   "source": [
    "import gymnasium as gym\n",
    "import matplotlib.pyplot as plt\n",
    "import time \n",
    "import numpy as np"
   ]
  },
  {
   "cell_type": "code",
   "execution_count": 49,
   "metadata": {},
   "outputs": [
    {
     "data": {
      "image/png": "[encoded data removed]",
      "text/plain": [
       "<Figure size 640x480 with 1 Axes>"
      ]
     },
     "metadata": {},
     "output_type": "display_data"
    },
    {
     "name": "stdout",
     "output_type": "stream",
     "text": [
      "Step 0: observation = [ 0.01159984  0.17004156  0.01277825 -0.30900213], action = 1, reward = 1.0, terminated = False, truncated = False, info ={}\n",
      "Step 1: observation = [ 0.01500067  0.36497912  0.00659821 -0.59762794], action = 1, reward = 1.0, terminated = False, truncated = False, info ={}\n",
      "Step 2: observation = [ 0.02230025  0.16976547 -0.00535435 -0.30287394], action = 0, reward = 1.0, terminated = False, truncated = False, info ={}\n",
      "Step 3: observation = [ 0.02569556  0.36496332 -0.01141183 -0.5972407 ], action = 1, reward = 1.0, terminated = False, truncated = False, info ={}\n",
      "Step 4: observation = [ 0.03299483  0.56024307 -0.02335665 -0.8934963 ], action = 1, reward = 1.0, terminated = False, truncated = False, info ={}\n",
      "Step 5: observation = [ 0.04419969  0.36544558 -0.04122657 -0.6082459 ], action = 0, reward = 1.0, terminated = False, truncated = False, info ={}\n",
      "Step 6: observation = [ 0.0515086   0.1709235  -0.05339149 -0.32882792], action = 0, reward = 1.0, terminated = False, truncated = False, info ={}\n",
      "Step 7: observation = [ 0.05492707  0.36676326 -0.05996805 -0.6378586 ], action = 1, reward = 1.0, terminated = False, truncated = False, info ={}\n",
      "Step 8: observation = [ 0.06226234  0.17252655 -0.07272522 -0.3646473 ], action = 0, reward = 1.0, terminated = False, truncated = False, info ={}\n",
      "Step 9: observation = [ 0.06571287  0.36860263 -0.08001817 -0.6793464 ], action = 1, reward = 1.0, terminated = False, truncated = False, info ={}\n",
      "Step 10: observation = [ 0.07308492  0.5647396  -0.09360509 -0.9961107 ], action = 1, reward = 1.0, terminated = False, truncated = False, info ={}\n",
      "Step 11: observation = [ 0.08437971  0.76098025 -0.11352731 -1.3166627 ], action = 1, reward = 1.0, terminated = False, truncated = False, info ={}\n",
      "Step 12: observation = [ 0.09959932  0.95734036 -0.13986056 -1.6426122 ], action = 1, reward = 1.0, terminated = False, truncated = False, info ={}\n",
      "Step 13: observation = [ 0.11874612  1.1537957  -0.1727128  -1.975403  ], action = 1, reward = 1.0, terminated = False, truncated = False, info ={}\n",
      "Step 14: observation = [ 0.14182204  0.9608645  -0.21222086 -1.7408371 ], action = 0, reward = 1.0, terminated = True, truncated = False, info ={}\n"
     ]
    }
   ],
   "source": [
    "env = gym.make(\"CartPole-v1\", render_mode=\"rgb_array\")\n",
    "observation, info = env.reset()\n",
    "\n",
    "episode_over = False\n",
    "i = 0\n",
    "observations = []\n",
    "frames = []\n",
    "actions = []\n",
    "rewards = []\n",
    "terminateds = []\n",
    "truncateds = []\n",
    "infos = []\n",
    "while not episode_over:\n",
    "    i += 1\n",
    "    frame = env.render()\n",
    "    frames.append(frame)\n",
    "    action = env.action_space.sample()  # random action sampling\n",
    "    observation, reward, terminated, truncated, info = env.step(action)\n",
    "    observations.append(observation)\n",
    "    actions.append(action)\n",
    "    rewards.append(reward)\n",
    "    terminateds.append(terminated)\n",
    "    truncateds.append(truncated)\n",
    "    infos.append(info)\n",
    "    episode_over = terminated or truncated\n",
    "\n",
    "for frame in frames:\n",
    "    plt.imshow(frame)\n",
    "    clear_output(wait=True)\n",
    "    plt.show()\n",
    "    time.sleep(0.01)\n",
    "env.close()\n",
    "\n",
    "for j in range(i):\n",
    "    print(f\"Step {j}: observation = {observations[j]}, action = {actions[j]}, reward = {rewards[j]}, terminated = {terminateds[j]}, truncated = {truncateds[j]}, info ={infos[j]}\")"
   ]
  },
  {
   "cell_type": "markdown",
   "metadata": {},
   "source": [
    "# b)"
   ]
  },
  {
   "cell_type": "code",
   "execution_count": 73,
   "metadata": {},
   "outputs": [],
   "source": [
    "def simple_policy(observ): \n",
    "    cart_pos = observ[0]\n",
    "    cart_vel = observ[1]\n",
    "    tilt_angle = observ[2]\n",
    "    tilt_angle_vel = observ[3]\n",
    "\n",
    "    if tilt_angle < 0: \n",
    "        return 0 # push cart to the left \n",
    "    else: \n",
    "        return 1 # push cart to the right\n",
    "\n",
    "def advanced_policy(observ):\n",
    "    cart_pos = observ[0]\n",
    "    cart_vel = observ[1]\n",
    "    tilt_angle = observ[2]\n",
    "    tilt_angle_vel = observ[3]\n",
    "\n",
    "    if tilt_angle < 0 and tilt_angle_vel < 1: # push cart to the left  because angle  < 0 and vel not too big\n",
    "        return 0 \n",
    "    elif tilt_angle < 0 and tilt_angle_vel > 1: # push cart to the right because vel too big\n",
    "        return 1\n",
    "    elif tilt_angle > 0 and tilt_angle_vel > -1: # push cart to the right because angle > 0 and negative vel not too big \n",
    "        return 1\n",
    "    elif tilt_angle > 0 and tilt_angle_vel < -1: # push cart to the left because neg. vel too big\n",
    "        return 0 # push cart to the left\n",
    "\n",
    "def run_and_vis_episode(display= False, policy= \"S\"):\n",
    "    env = gym.make(\"CartPole-v1\", render_mode=\"rgb_array\")\n",
    "    observation, info = env.reset()\n",
    "    episode_over = False\n",
    "    i = 0\n",
    "    if display == True:\n",
    "        observations = []\n",
    "        frames = []\n",
    "        actions = []\n",
    "        rewards = []\n",
    "        terminateds = []\n",
    "        truncateds = []\n",
    "        infos = []\n",
    "        observation, _ = env.reset()\n",
    "        while not episode_over:\n",
    "            i += 1\n",
    "            frame = env.render()\n",
    "            frames.append(frame)\n",
    "            if policy == \"S\":\n",
    "                action = simple_policy(observation)    # policy defined through function \n",
    "            else:\n",
    "                action = advanced_policy(observation)    # policy defined through function \n",
    "            observation, reward, terminated, truncated, info = env.step(action)\n",
    "            observations.append(observation)\n",
    "            actions.append(action)\n",
    "            rewards.append(reward)\n",
    "            terminateds.append(terminated)\n",
    "            truncateds.append(truncated)\n",
    "            infos.append(info)\n",
    "            episode_over = terminated or truncated\n",
    "        for frame in frames:\n",
    "            plt.imshow(frame)\n",
    "            clear_output(wait=True)\n",
    "            plt.show()\n",
    "            #time.sleep(0.01)\n",
    "        env.close()\n",
    "\n",
    "        for j in range(i):\n",
    "            print(f\"Step {j}: observation = {observations[j]}, action = {actions[j]}, reward = {rewards[j]}, terminated = {terminateds[j]}, truncated = {truncateds[j]}, info ={infos[j]}\")\n",
    "    else:\n",
    "        while not episode_over:\n",
    "            i += 1\n",
    "            if policy == \"S\":\n",
    "                action = simple_policy(observation)    # policy defined through function \n",
    "            else:\n",
    "                action = advanced_policy(observation)    # policy defined through function \n",
    "            observation, reward, terminated, truncated, info = env.step(action)\n",
    "            episode_over = terminated or truncated\n",
    "    \n",
    "    return i"
   ]
  },
  {
   "cell_type": "code",
   "execution_count": 76,
   "metadata": {},
   "outputs": [
    {
     "data": {
      "image/png": "[encoded data removed]",
      "text/plain": [
       "<Figure size 640x480 with 1 Axes>"
      ]
     },
     "metadata": {},
     "output_type": "display_data"
    },
    {
     "name": "stdout",
     "output_type": "stream",
     "text": [
      "Step 0: observation = [ 0.00799073  0.24149701  0.00850021 -0.29128754], action = 1, reward = 1.0, terminated = False, truncated = False, info ={}\n",
      "Step 1: observation = [ 0.01282067  0.43649673  0.00267446 -0.58127755], action = 1, reward = 1.0, terminated = False, truncated = False, info ={}\n",
      "Step 2: observation = [ 0.02155061  0.6315811  -0.00895109 -0.8731168 ], action = 1, reward = 1.0, terminated = False, truncated = False, info ={}\n",
      "Step 3: observation = [ 0.03418223  0.436582   -0.02641343 -0.58326143], action = 0, reward = 1.0, terminated = False, truncated = False, info ={}\n",
      "Step 4: observation = [ 0.04291387  0.24183986 -0.03807866 -0.29901475], action = 0, reward = 1.0, terminated = False, truncated = False, info ={}\n",
      "Step 5: observation = [ 0.04775067  0.0472808  -0.04405895 -0.01858012], action = 0, reward = 1.0, terminated = False, truncated = False, info ={}\n",
      "Step 6: observation = [ 0.04869628 -0.14718251 -0.04443055  0.25988263], action = 0, reward = 1.0, terminated = False, truncated = False, info ={}\n",
      "Step 7: observation = [ 0.04575263 -0.34164295 -0.0392329   0.53822714], action = 0, reward = 1.0, terminated = False, truncated = False, info ={}\n",
      "Step 8: observation = [ 0.03891977 -0.536192   -0.02846836  0.81829464], action = 0, reward = 1.0, terminated = False, truncated = False, info ={}\n",
      "Step 9: observation = [ 0.02819593 -0.730913   -0.01210247  1.1018891 ], action = 0, reward = 1.0, terminated = False, truncated = False, info ={}\n",
      "Step 10: observation = [ 0.01357767 -0.92587364  0.00993532  1.3907506 ], action = 0, reward = 1.0, terminated = False, truncated = False, info ={}\n",
      "Step 11: observation = [-0.0049398  -0.7308768   0.03775033  1.1011908 ], action = 1, reward = 1.0, terminated = False, truncated = False, info ={}\n",
      "Step 12: observation = [-0.01955734 -0.53627133  0.05977415  0.8205866 ], action = 1, reward = 1.0, terminated = False, truncated = False, info ={}\n",
      "Step 13: observation = [-0.03028276 -0.3420161   0.07618588  0.5472872 ], action = 1, reward = 1.0, terminated = False, truncated = False, info ={}\n",
      "Step 14: observation = [-0.03712308 -0.14804251  0.08713163  0.27954787], action = 1, reward = 1.0, terminated = False, truncated = False, info ={}\n",
      "Step 15: observation = [-0.04008393  0.04573542  0.09272258  0.01556793], action = 1, reward = 1.0, terminated = False, truncated = False, info ={}\n",
      "Step 16: observation = [-0.03916923  0.23941372  0.09303394 -0.24648018], action = 1, reward = 1.0, terminated = False, truncated = False, info ={}\n",
      "Step 17: observation = [-0.03438095  0.43309233  0.08810434 -0.50842917], action = 1, reward = 1.0, terminated = False, truncated = False, info ={}\n",
      "Step 18: observation = [-0.02571911  0.6268697   0.07793576 -0.7720986 ], action = 1, reward = 1.0, terminated = False, truncated = False, info ={}\n",
      "Step 19: observation = [-0.01318171  0.8208377   0.06249378 -1.0392776 ], action = 1, reward = 1.0, terminated = False, truncated = False, info ={}\n",
      "Step 20: observation = [ 0.00323504  1.015076    0.04170823 -1.3117052 ], action = 1, reward = 1.0, terminated = False, truncated = False, info ={}\n",
      "Step 21: observation = [ 0.02353656  1.2096459   0.01547412 -1.5910473 ], action = 1, reward = 1.0, terminated = False, truncated = False, info ={}\n",
      "Step 22: observation = [ 0.04772948  1.4045807  -0.01634682 -1.8788654 ], action = 1, reward = 1.0, terminated = False, truncated = False, info ={}\n",
      "Step 23: observation = [ 0.07582109  1.2096406  -0.05392413 -1.5913001 ], action = 0, reward = 1.0, terminated = False, truncated = False, info ={}\n",
      "Step 24: observation = [ 0.1000139   1.0151987  -0.08575013 -1.3159072 ], action = 0, reward = 1.0, terminated = False, truncated = False, info ={}\n",
      "Step 25: observation = [ 0.12031788  0.8212599  -0.11206827 -1.0512476 ], action = 0, reward = 1.0, terminated = False, truncated = False, info ={}\n",
      "Step 26: observation = [ 0.13674308  0.62778825 -0.13309322 -0.7957397 ], action = 0, reward = 1.0, terminated = False, truncated = False, info ={}\n",
      "Step 27: observation = [ 0.14929885  0.43471938 -0.14900802 -0.5477116 ], action = 0, reward = 1.0, terminated = False, truncated = False, info ={}\n",
      "Step 28: observation = [ 0.15799323  0.24197032 -0.15996225 -0.30543825], action = 0, reward = 1.0, terminated = False, truncated = False, info ={}\n",
      "Step 29: observation = [ 0.16283263  0.04944643 -0.16607101 -0.06716784], action = 0, reward = 1.0, terminated = False, truncated = False, info ={}\n",
      "Step 30: observation = [ 0.16382156 -0.1429534  -0.16741437  0.16886054], action = 0, reward = 1.0, terminated = False, truncated = False, info ={}\n",
      "Step 31: observation = [ 0.16096249 -0.33533275 -0.16403717  0.40440485], action = 0, reward = 1.0, terminated = False, truncated = False, info ={}\n",
      "Step 32: observation = [ 0.15425584 -0.52779466 -0.15594907  0.6412114 ], action = 0, reward = 1.0, terminated = False, truncated = False, info ={}\n",
      "Step 33: observation = [ 0.14369994 -0.7204384  -0.14312483  0.8810069 ], action = 0, reward = 1.0, terminated = False, truncated = False, info ={}\n",
      "Step 34: observation = [ 0.12929118 -0.9133565  -0.1255047   1.12549   ], action = 0, reward = 1.0, terminated = False, truncated = False, info ={}\n",
      "Step 35: observation = [ 0.11102405 -1.1066304  -0.1029949   1.376319  ], action = 0, reward = 1.0, terminated = False, truncated = False, info ={}\n",
      "Step 36: observation = [ 0.08889144 -1.3003259  -0.07546852  1.6350956 ], action = 0, reward = 1.0, terminated = False, truncated = False, info ={}\n",
      "Step 37: observation = [ 0.06288493 -1.4944855  -0.04276661  1.9033394 ], action = 0, reward = 1.0, terminated = False, truncated = False, info ={}\n",
      "Step 38: observation = [ 0.03299521 -1.6891199  -0.00469982  2.1824546 ], action = 0, reward = 1.0, terminated = False, truncated = False, info ={}\n",
      "Step 39: observation = [-7.8718713e-04 -1.8841960e+00  3.8949266e-02  2.4736836e+00], action = 0, reward = 1.0, terminated = False, truncated = False, info ={}\n",
      "Step 40: observation = [-0.03847111 -1.6894213   0.08842294  2.1931913 ], action = 1, reward = 1.0, terminated = False, truncated = False, info ={}\n",
      "Step 41: observation = [-0.07225954 -1.4952573   0.13228677  1.9290454 ], action = 1, reward = 1.0, terminated = False, truncated = False, info ={}\n",
      "Step 42: observation = [-0.10216468 -1.3017778   0.17086768  1.6801411 ], action = 1, reward = 1.0, terminated = False, truncated = False, info ={}\n",
      "Step 43: observation = [-0.12820023 -1.1089985   0.2044705   1.4451741 ], action = 1, reward = 1.0, terminated = False, truncated = False, info ={}\n",
      "Step 44: observation = [-0.15038021 -0.9168937   0.23337398  1.222716  ], action = 1, reward = 1.0, terminated = True, truncated = False, info ={}\n",
      "45\n"
     ]
    }
   ],
   "source": [
    "iterations = run_and_vis_episode(display=True, policy=\"S\")\n",
    "print(iterations)"
   ]
  },
  {
   "cell_type": "code",
   "execution_count": null,
   "metadata": {},
   "outputs": [
    {
     "name": "stdout",
     "output_type": "stream",
     "text": [
      "The averaged reward over 20 runs of 200 episodes of the simple policy is= 42.2605\n",
      "The averaged reward over 20 runs of 200 episodes of the advanced policy is= 499.38800000000003\n",
      "499.38800000000003\n"
     ]
    }
   ],
   "source": [
    "n = 20\n",
    "m = 200\n",
    "sum_s = 0\n",
    "sum_a = 0\n",
    "for j in range(n):\n",
    "    for i in range(m):\n",
    "        sum_s += run_and_vis_episode(display=False, policy=\"S\")\n",
    "        sum_a += run_and_vis_episode(display=False, policy=\"A\")\n",
    "sum_s = (sum_s/m)/n\n",
    "sum_a = (sum_a/m)/n\n",
    "print(f\"The averaged reward over {n} runs of {m} episodes of the simple policy is= {sum_s}\")\n",
    "print(f\"The averaged reward over {n} runs of {m} episodes of the advanced policy is= {sum_a}\")"
   ]
  },
  {
   "cell_type": "code",
   "execution_count": null,
   "metadata": {},
   "outputs": [],
   "source": []
  }
 ],
 "metadata": {
  "kernelspec": {
   "display_name": "Python 3",
   "language": "python",
   "name": "python3"
  },
  "language_info": {
   "codemirror_mode": {
    "name": "ipython",
    "version": 3
   },
   "file_extension": ".py",
   "mimetype": "text/x-python",
   "name": "python",
   "nbconvert_exporter": "python",
   "pygments_lexer": "ipython3",
   "version": "3.10.8"
  }
 },
 "nbformat": 4,
 "nbformat_minor": 2
}
