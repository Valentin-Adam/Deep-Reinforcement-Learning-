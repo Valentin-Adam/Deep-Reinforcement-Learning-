{
 "cells": [
  {
   "cell_type": "markdown",
   "metadata": {},
   "source": [
    "# a)"
   ]
  },
  {
   "cell_type": "code",
   "execution_count": 52,
   "metadata": {},
   "outputs": [],
   "source": [
    "import gymnasium as gym \n",
    "from gymnasium import spaces\n",
    "import numpy as np\n",
    "import matplotlib.pyplot as plt"
   ]
  },
  {
   "cell_type": "code",
   "execution_count": 25,
   "metadata": {},
   "outputs": [],
   "source": [
    "class GridWorldEnv(gym.Env):\n",
    "    def __init__(self, n=5, loc_a=np.array([4, 1]), loc_a_=np.array([0, 1]), loc_b=np.array([4, 3]), loc_b_=np.array([2, 3]), rew_a=10, rew_b=5):\n",
    "        super(GridWorldEnv, self).__init__()\n",
    "        \n",
    "        # Parameter der Grid-World\n",
    "        self.n = n\n",
    "        self.loc_a = loc_a\n",
    "        self.loc_a_ = loc_a_\n",
    "        self.loc_b = loc_b\n",
    "        self.loc_b_ = loc_b_\n",
    "        self.rew_a = rew_a\n",
    "        self.rew_b = rew_b\n",
    "        self.current_rew = 0\n",
    "\n",
    "        # Aktionen und Beobachtungen festlegen\n",
    "        self.action_space = spaces.Discrete(4)  # 0: Nord, 1: Süd, 2: West, 3: Ost\n",
    "        self.observation_space = spaces.MultiDiscrete([n, n])  # Position in der n x n Grid-World\n",
    "        \n",
    "        # Anfangszustand und Belohnung initialisieren\n",
    "        self.reset()\n",
    "    \n",
    "    def reset(self, seed = None, options = None):\n",
    "        if seed is not None:\n",
    "            np.random.seed(seed)\n",
    "\n",
    "        # Anfangszustand und Belohnung für eine neue Episode zurücksetzen\n",
    "        self.current_pos = np.array([2, 2])\n",
    "        self.done = False\n",
    "        return self.current_pos, {}\n",
    "\n",
    "    def step(self, action):\n",
    "        # Check for special rewards and positions\n",
    "        if (self.current_pos == self.loc_a).all():\n",
    "            self.current_rew += self.rew_a\n",
    "            self.current_pos = self.loc_a_\n",
    "            reward = self.rew_a\n",
    "            self.done = False\n",
    "            return self.current_pos, self.current_rew, self.done, False, {}\n",
    "        \n",
    "        elif (self.current_pos == self.loc_b).all():\n",
    "            self.current_rew += self.rew_b\n",
    "            self.current_pos = self.loc_b_\n",
    "            reward = self.rew_b\n",
    "            self.done = False\n",
    "            return self.current_pos, self.current_rew, self.done, False, {}\n",
    "        \n",
    "        else:\n",
    "            if action == 0:   # Nord\n",
    "                if self.current_pos[0] < self.n - 1:\n",
    "                    self.current_pos[0] += 1\n",
    "                else:\n",
    "                    self.current_rew += -1\n",
    "                    reward = -1\n",
    "            elif action == 1: # Süd\n",
    "                if self.current_pos[0] > 0:\n",
    "                    self.current_pos[0] -= 1\n",
    "                else:\n",
    "                    self.current_rew += -1\n",
    "                    reward = -1\n",
    "            elif action == 2: # West\n",
    "                if self.current_pos[1] > 0:\n",
    "                    self.current_pos[1] -= 1\n",
    "                else:\n",
    "                    self.current_rew += -1\n",
    "                    reward = -1\n",
    "            elif action == 3: # Ost\n",
    "                if self.current_pos[1] < self.n - 1:\n",
    "                    self.current_pos[1] += 1\n",
    "                else:\n",
    "                    self.current_rew += -1\n",
    "                    reward = -1\n",
    "\n",
    "            # Überprüfen, ob die Episode beendet ist\n",
    "            self.done = False\n",
    "            \n",
    "            return self.current_pos, self.current_rew, self.done, False, {}\n",
    "    \n",
    "    def render(self):\n",
    "            grid = np.zeros((self.n, self.n))\n",
    "            grid[self.current_pos[0], self.current_pos[1]] = 1\n",
    "            \n",
    "            # Rückgabe als Bilddaten (für Screenshots oder Analyse)\n",
    "            fig, ax = plt.subplots()\n",
    "            ax.imshow(grid, cmap=\"viridis\", origin=\"lower\")\n",
    "\n",
    "            # Entfernt die Achsen und den Rahmen\n",
    "            ax.axis(\"off\")\n",
    "            fig.canvas.draw()\n",
    "\n",
    "            # Konvertiert das Bild zu einem numpy-Array\n",
    "            image = np.frombuffer(fig.canvas.tostring_rgb(), dtype='uint8')\n",
    "            image = image.reshape(fig.canvas.get_width_height()[::-1] + (3,))\n",
    "            #plt.close(fig)  # Schließt das Bild, um Speicher zu sparen\n",
    "            return image\n",
    "    \n",
    "    def close(self):\n",
    "        pass"
   ]
  },
  {
   "cell_type": "markdown",
   "metadata": {},
   "source": [
    "# b)"
   ]
  },
  {
   "cell_type": "code",
   "execution_count": 28,
   "metadata": {},
   "outputs": [
    {
     "name": "stderr",
     "output_type": "stream",
     "text": [
      "c:\\Users\\Adam-\\AppData\\Local\\Programs\\Python\\Python310\\lib\\site-packages\\gymnasium\\envs\\registration.py:642: UserWarning: \u001b[33mWARN: Overriding environment GridWorldEnv-v0 already in registry.\u001b[0m\n",
      "  logger.warn(f\"Overriding environment {new_spec.id} already in registry.\")\n"
     ]
    }
   ],
   "source": [
    "from gymnasium.envs.registration import register\n",
    "\n",
    "register(\n",
    "    id='GridWorldEnv-v0',           # Eindeutige Kennung für die Umgebung\n",
    "    entry_point='__main__:GridWorldEnv',  # Pfad zur Klasse der Umgebung\n",
    ")\n"
   ]
  },
  {
   "cell_type": "code",
   "execution_count": 29,
   "metadata": {},
   "outputs": [
    {
     "name": "stdout",
     "output_type": "stream",
     "text": [
      "State: [3 2], Reward: 0, Done: False\n",
      "State: [4 2], Reward: 0, Done: False\n",
      "State: [4 3], Reward: 0, Done: False\n",
      "State: [2 3], Reward: 5, Done: False\n"
     ]
    },
    {
     "data": {
      "image/png": "[encoded data removed]",
      "text/plain": [
       "<Figure size 640x480 with 1 Axes>"
      ]
     },
     "metadata": {},
     "output_type": "display_data"
    },
    {
     "data": {
      "image/png": "[encoded data removed]",
      "text/plain": [
       "<Figure size 640x480 with 1 Axes>"
      ]
     },
     "metadata": {},
     "output_type": "display_data"
    },
    {
     "data": {
      "image/png": "[encoded data removed]",
      "text/plain": [
       "<Figure size 640x480 with 1 Axes>"
      ]
     },
     "metadata": {},
     "output_type": "display_data"
    },
    {
     "data": {
      "image/png": "[encoded data removed]",
      "text/plain": [
       "<Figure size 640x480 with 1 Axes>"
      ]
     },
     "metadata": {},
     "output_type": "display_data"
    }
   ],
   "source": [
    "# Umgebung erstellen\n",
    "env = gym.make('GridWorldEnv-v0')\n",
    "state, _ = env.reset()\n",
    "\n",
    "# Simulationsschleife\n",
    "screenshots = []\n",
    "for _ in range(4):\n",
    "    action = env.action_space.sample()  # Zufällige Aktion\n",
    "    state, reward, done, _, info = env.step(action)\n",
    "    screenshot = env.render()  # Rendern als Bild\n",
    "    plt.imshow(screenshot)\n",
    "    screenshots.append(screenshot)\n",
    "    print(f\"State: {state}, Reward: {reward}, Done: {done}\")\n",
    "\n",
    "env.close()\n"
   ]
  }
 ],
 "metadata": {
  "kernelspec": {
   "display_name": "Python 3",
   "language": "python",
   "name": "python3"
  },
  "language_info": {
   "codemirror_mode": {
    "name": "ipython",
    "version": 3
   },
   "file_extension": ".py",
   "mimetype": "text/x-python",
   "name": "python",
   "nbconvert_exporter": "python",
   "pygments_lexer": "ipython3",
   "version": "3.10.8"
  }
 },
 "nbformat": 4,
 "nbformat_minor": 2
}
